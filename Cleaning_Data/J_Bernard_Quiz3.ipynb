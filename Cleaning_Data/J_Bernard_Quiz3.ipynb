{
 "cells": [
  {
   "cell_type": "code",
   "execution_count": 1,
   "id": "c23019ad",
   "metadata": {},
   "outputs": [],
   "source": [
    "import numpy as np\n",
    "import pandas as pd\n",
    "import seaborn as sns\n",
    "import matplotlib.pyplot as mpl"
   ]
  },
  {
   "cell_type": "code",
   "execution_count": 2,
   "id": "f64e32d8",
   "metadata": {},
   "outputs": [],
   "source": [
    "df = pd.read_csv('https://raw.githubusercontent.com/MatthewFried/Udemy/master/Day2/Day2_Data.csv')"
   ]
  },
  {
   "cell_type": "code",
   "execution_count": 3,
   "id": "850d1df1",
   "metadata": {},
   "outputs": [
    {
     "name": "stdout",
     "output_type": "stream",
     "text": [
      "<class 'pandas.core.frame.DataFrame'>\n",
      "RangeIndex: 12795 entries, 0 to 12794\n",
      "Data columns (total 16 columns):\n",
      " #   Column              Non-Null Count  Dtype  \n",
      "---  ------              --------------  -----  \n",
      " 0   INDEX               12795 non-null  int64  \n",
      " 1   TARGET              12795 non-null  int64  \n",
      " 2   FixedAcidity        12795 non-null  float64\n",
      " 3   VolatileAcidity     12795 non-null  float64\n",
      " 4   CitricAcid          12795 non-null  float64\n",
      " 5   ResidualSugar       12179 non-null  float64\n",
      " 6   Chlorides           12157 non-null  float64\n",
      " 7   FreeSulfurDioxide   12148 non-null  float64\n",
      " 8   TotalSulfurDioxide  12113 non-null  float64\n",
      " 9   Density             12795 non-null  float64\n",
      " 10  pH                  12400 non-null  float64\n",
      " 11  Sulphates           11585 non-null  float64\n",
      " 12  Alcohol             12142 non-null  float64\n",
      " 13  LabelAppeal         12795 non-null  int64  \n",
      " 14  AcidIndex           12795 non-null  int64  \n",
      " 15  STARS               9436 non-null   float64\n",
      "dtypes: float64(12), int64(4)\n",
      "memory usage: 1.6 MB\n",
      "None\n"
     ]
    }
   ],
   "source": [
    "print(df.info())"
   ]
  },
  {
   "cell_type": "code",
   "execution_count": 4,
   "id": "5eb2877e",
   "metadata": {},
   "outputs": [
    {
     "name": "stdout",
     "output_type": "stream",
     "text": [
      "       INDEX  TARGET  FixedAcidity  VolatileAcidity  CitricAcid  \\\n",
      "0          1       3           3.2            1.160       -0.98   \n",
      "1          2       3           4.5            0.160       -0.81   \n",
      "2          4       5           7.1            2.640       -0.88   \n",
      "3          5       3           5.7            0.385        0.04   \n",
      "4          6       4           8.0            0.330       -1.26   \n",
      "...      ...     ...           ...              ...         ...   \n",
      "12790  16120       0           5.0           -0.790        2.01   \n",
      "12791  16123       5           8.9            0.470        0.29   \n",
      "12792  16127       4           6.0            0.170       -1.10   \n",
      "12793  16128       3           7.7            0.320        0.12   \n",
      "12794  16129       4           5.2           -0.040       -0.81   \n",
      "\n",
      "       ResidualSugar  Chlorides  FreeSulfurDioxide  TotalSulfurDioxide  \\\n",
      "0               54.2     -0.567                NaN               268.0   \n",
      "1               26.1     -0.425               15.0              -327.0   \n",
      "2               14.8      0.037              214.0               142.0   \n",
      "3               18.8     -0.425               22.0               115.0   \n",
      "4                9.4        NaN             -167.0               108.0   \n",
      "...              ...        ...                ...                 ...   \n",
      "12790            5.0      0.043               17.0               101.0   \n",
      "12791           84.9      0.259               54.0                 NaN   \n",
      "12792           37.0      0.078               25.0               108.0   \n",
      "12793            NaN      0.029               26.0               274.0   \n",
      "12794           52.7        NaN             -106.0               242.0   \n",
      "\n",
      "       Density    pH  Sulphates  Alcohol  LabelAppeal  AcidIndex  STARS  \n",
      "0      0.99280  3.33      -0.59      9.9            0          8    2.0  \n",
      "1      1.02792  3.38       0.70      NaN           -1          7    3.0  \n",
      "2      0.99518  3.12       0.48     22.0           -1          8    3.0  \n",
      "3      0.99640  2.24       1.83      6.2           -1          6    1.0  \n",
      "4      0.99457  3.12       1.77     13.7            0          9    2.0  \n",
      "...        ...   ...        ...      ...          ...        ...    ...  \n",
      "12790  1.01077  3.39       0.57      4.9            1          5    NaN  \n",
      "12791  0.99518  4.46      -1.20      NaN           -1          8    2.0  \n",
      "12792  0.99076  3.25        NaN     12.3            0          6    2.0  \n",
      "12793  0.99060  3.97       0.62     11.0           -1          6    2.0  \n",
      "12794  0.99454  3.94      -0.12      9.9            0          7    2.0  \n",
      "\n",
      "[12795 rows x 16 columns]\n"
     ]
    }
   ],
   "source": [
    "print(df)"
   ]
  },
  {
   "cell_type": "code",
   "execution_count": null,
   "id": "3b687f93",
   "metadata": {},
   "outputs": [],
   "source": []
  }
 ],
 "metadata": {
  "kernelspec": {
   "display_name": "Python 3",
   "language": "python",
   "name": "python3"
  },
  "language_info": {
   "codemirror_mode": {
    "name": "ipython",
    "version": 3
   },
   "file_extension": ".py",
   "mimetype": "text/x-python",
   "name": "python",
   "nbconvert_exporter": "python",
   "pygments_lexer": "ipython3",
   "version": "3.8.8"
  }
 },
 "nbformat": 4,
 "nbformat_minor": 5
}
