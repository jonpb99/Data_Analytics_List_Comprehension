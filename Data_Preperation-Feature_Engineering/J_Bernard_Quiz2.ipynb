{
 "cells": [
  {
   "cell_type": "markdown",
   "id": "e01bf85d",
   "metadata": {},
   "source": [
    "# Data Preparation/ Feature Engineering"
   ]
  },
  {
   "cell_type": "code",
   "execution_count": 4,
   "id": "6c033aab",
   "metadata": {},
   "outputs": [],
   "source": [
    "import numpy as np\n",
    "import pandas as pd\n",
    "import seaborn as sns\n",
    "import matplotlib.pyplot as mpl"
   ]
  },
  {
   "cell_type": "code",
   "execution_count": 5,
   "id": "c2eff540",
   "metadata": {},
   "outputs": [],
   "source": [
    "df = pd.read_csv('https://raw.githubusercontent.com/jonpb99/Data_Analytics_List_Comprehension/main/Data_Preperation-Feature_Engineering/imports-85.csv', header=None)"
   ]
  },
  {
   "cell_type": "code",
   "execution_count": 6,
   "id": "ee05d4ce",
   "metadata": {},
   "outputs": [],
   "source": [
    "df = df.rename(columns={0:'symbolizing', 1:'normalized-losses', 2:'make', 3:'fuel-type', 4:'aspiration', \n",
    "                          5:'num-of-doors', 6:'body-style', 7:'drive-wheels', 8:'engine-location', 9:'wheel-base', \n",
    "                          10:'length', 11:'width', 12:'height', 13:'curb-weight', 14:'engine-type', \n",
    "                          15:'num-of-cylinders', 16:'engine-size', 17:'fuel-system', 18:'bore', 19:'stroke', \n",
    "                          20:'compression-ratio', 21:'horsepower', 22:'peak-rpm', 23:'city-mpg', 24:'highway-mpg', \n",
    "                          25:'price'})"
   ]
  },
  {
   "cell_type": "code",
   "execution_count": null,
   "id": "f37efae7",
   "metadata": {},
   "outputs": [],
   "source": [
    "\"\"\"\n",
    "ndf = df.T.to_numpy()\n",
    "price = ndf[7]\n",
    "carat = ndf[1]\n",
    "cut = ndf[2]\n",
    "color = ndf[3]\n",
    "clarity = ndf[4]\n",
    "x = ndf[8]\n",
    "y = ndf[9]\n",
    "z = ndf[10]\n",
    "depth = ndf[5]\n",
    "table = ndf[6]\n",
    "\"\"\""
   ]
  },
  {
   "cell_type": "code",
   "execution_count": 26,
   "id": "dc35e048",
   "metadata": {},
   "outputs": [
    {
     "name": "stdout",
     "output_type": "stream",
     "text": [
      "<class 'pandas.core.frame.DataFrame'>\n",
      "RangeIndex: 205 entries, 0 to 204\n",
      "Data columns (total 26 columns):\n",
      " #   Column             Non-Null Count  Dtype  \n",
      "---  ------             --------------  -----  \n",
      " 0   symbolizing        205 non-null    int64  \n",
      " 1   normalized-losses  205 non-null    object \n",
      " 2   make               205 non-null    object \n",
      " 3   fuel-type          205 non-null    object \n",
      " 4   aspiration         205 non-null    object \n",
      " 5   num-of-doors       205 non-null    object \n",
      " 6   body-style         205 non-null    object \n",
      " 7   drive-wheels       205 non-null    object \n",
      " 8   engine-location    205 non-null    object \n",
      " 9   wheel-base         205 non-null    float64\n",
      " 10  length             205 non-null    float64\n",
      " 11  width              205 non-null    float64\n",
      " 12  height             205 non-null    float64\n",
      " 13  curb-weight        205 non-null    int64  \n",
      " 14  engine-type        205 non-null    object \n",
      " 15  num-of-cylinders   205 non-null    object \n",
      " 16  engine-size        205 non-null    int64  \n",
      " 17  fuel-system        205 non-null    object \n",
      " 18  bore               205 non-null    object \n",
      " 19  stroke             205 non-null    object \n",
      " 20  compression-ratio  205 non-null    float64\n",
      " 21  horsepower         205 non-null    object \n",
      " 22  peak-rpm           205 non-null    object \n",
      " 23  city-mpg           205 non-null    int64  \n",
      " 24  highway-mpg        205 non-null    int64  \n",
      " 25  price              205 non-null    object \n",
      "dtypes: float64(5), int64(5), object(16)\n",
      "memory usage: 41.8+ KB\n",
      "None\n"
     ]
    }
   ],
   "source": [
    "print(df.info())"
   ]
  },
  {
   "cell_type": "code",
   "execution_count": 27,
   "id": "4d11420c",
   "metadata": {},
   "outputs": [
    {
     "name": "stdout",
     "output_type": "stream",
     "text": [
      "     symbolizing normalized-losses         make fuel-type aspiration  \\\n",
      "0              3                 ?  alfa-romero       gas        std   \n",
      "1              3                 ?  alfa-romero       gas        std   \n",
      "2              1                 ?  alfa-romero       gas        std   \n",
      "3              2               164         audi       gas        std   \n",
      "4              2               164         audi       gas        std   \n",
      "..           ...               ...          ...       ...        ...   \n",
      "200           -1                95        volvo       gas        std   \n",
      "201           -1                95        volvo       gas      turbo   \n",
      "202           -1                95        volvo       gas        std   \n",
      "203           -1                95        volvo    diesel      turbo   \n",
      "204           -1                95        volvo       gas      turbo   \n",
      "\n",
      "    num-of-doors   body-style drive-wheels engine-location  wheel-base  ...  \\\n",
      "0            two  convertible          rwd           front        88.6  ...   \n",
      "1            two  convertible          rwd           front        88.6  ...   \n",
      "2            two    hatchback          rwd           front        94.5  ...   \n",
      "3           four        sedan          fwd           front        99.8  ...   \n",
      "4           four        sedan          4wd           front        99.4  ...   \n",
      "..           ...          ...          ...             ...         ...  ...   \n",
      "200         four        sedan          rwd           front       109.1  ...   \n",
      "201         four        sedan          rwd           front       109.1  ...   \n",
      "202         four        sedan          rwd           front       109.1  ...   \n",
      "203         four        sedan          rwd           front       109.1  ...   \n",
      "204         four        sedan          rwd           front       109.1  ...   \n",
      "\n",
      "     engine-size  fuel-system  bore  stroke compression-ratio horsepower  \\\n",
      "0            130         mpfi  3.47    2.68               9.0        111   \n",
      "1            130         mpfi  3.47    2.68               9.0        111   \n",
      "2            152         mpfi  2.68    3.47               9.0        154   \n",
      "3            109         mpfi  3.19    3.40              10.0        102   \n",
      "4            136         mpfi  3.19    3.40               8.0        115   \n",
      "..           ...          ...   ...     ...               ...        ...   \n",
      "200          141         mpfi  3.78    3.15               9.5        114   \n",
      "201          141         mpfi  3.78    3.15               8.7        160   \n",
      "202          173         mpfi  3.58    2.87               8.8        134   \n",
      "203          145          idi  3.01    3.40              23.0        106   \n",
      "204          141         mpfi  3.78    3.15               9.5        114   \n",
      "\n",
      "     peak-rpm city-mpg highway-mpg  price  \n",
      "0        5000       21          27  13495  \n",
      "1        5000       21          27  16500  \n",
      "2        5000       19          26  16500  \n",
      "3        5500       24          30  13950  \n",
      "4        5500       18          22  17450  \n",
      "..        ...      ...         ...    ...  \n",
      "200      5400       23          28  16845  \n",
      "201      5300       19          25  19045  \n",
      "202      5500       18          23  21485  \n",
      "203      4800       26          27  22470  \n",
      "204      5400       19          25  22625  \n",
      "\n",
      "[205 rows x 26 columns]\n"
     ]
    }
   ],
   "source": [
    "print(df)"
   ]
  },
  {
   "cell_type": "code",
   "execution_count": 29,
   "id": "d4a14600",
   "metadata": {},
   "outputs": [
    {
     "data": {
      "text/plain": [
       "array(['?', '164', '158', '192', '188', '121', '98', '81', '118', '148',\n",
       "       '110', '145', '137', '101', '78', '106', '85', '107', '104', '113',\n",
       "       '150', '129', '115', '93', '142', '161', '153', '125', '128',\n",
       "       '122', '103', '168', '108', '194', '231', '119', '154', '74',\n",
       "       '186', '83', '102', '89', '87', '77', '91', '134', '65', '197',\n",
       "       '90', '94', '256', '95'], dtype=object)"
      ]
     },
     "execution_count": 29,
     "metadata": {},
     "output_type": "execute_result"
    }
   ],
   "source": [
    "df['normalized-losses'].unique()"
   ]
  },
  {
   "cell_type": "code",
   "execution_count": 15,
   "id": "b04936d2",
   "metadata": {},
   "outputs": [
    {
     "data": {
      "text/plain": [
       "<AxesSubplot:xlabel='symbolizing', ylabel='count'>"
      ]
     },
     "execution_count": 15,
     "metadata": {},
     "output_type": "execute_result"
    },
    {
     "data": {
      "image/png": "[encoded data removed]",
      "text/plain": [
       "<Figure size 432x288 with 1 Axes>"
      ]
     },
     "metadata": {},
     "output_type": "display_data"
    }
   ],
   "source": [
    "sns.set(style='whitegrid')\n",
    "sns.countplot(x=\"symbolizing\", data=df)"
   ]
  },
  {
   "cell_type": "code",
   "execution_count": 23,
   "id": "09c9373a",
   "metadata": {},
   "outputs": [
    {
     "data": {
      "text/plain": [
       "<AxesSubplot:xlabel='num-of-cylinders', ylabel='count'>"
      ]
     },
     "execution_count": 23,
     "metadata": {},
     "output_type": "execute_result"
    },
    {
     "data": {
      "image/png": "[encoded data removed]",
      "text/plain": [
       "<Figure size 432x288 with 1 Axes>"
      ]
     },
     "metadata": {},
     "output_type": "display_data"
    }
   ],
   "source": [
    "sns.countplot(x=\"num-of-cylinders\", data=df)"
   ]
  },
  {
   "cell_type": "code",
   "execution_count": 19,
   "id": "d64f48fc",
   "metadata": {},
   "outputs": [
    {
     "data": {
      "text/plain": [
       "<AxesSubplot:xlabel='price', ylabel='normalized-losses'>"
      ]
     },
     "execution_count": 19,
     "metadata": {},
     "output_type": "execute_result"
    },
    {
     "data": {
      "image/png": "[encoded data removed]",
      "text/plain": [
       "<Figure size 432x288 with 1 Axes>"
      ]
     },
     "metadata": {},
     "output_type": "display_data"
    }
   ],
   "source": [
    "sns.scatterplot(x = \"price\", y = \"normalized-losses\", data = df)"
   ]
  },
  {
   "cell_type": "code",
   "execution_count": null,
   "id": "130fd203",
   "metadata": {},
   "outputs": [],
   "source": []
  }
 ],
 "metadata": {
  "kernelspec": {
   "display_name": "Python 3",
   "language": "python",
   "name": "python3"
  },
  "language_info": {
   "codemirror_mode": {
    "name": "ipython",
    "version": 3
   },
   "file_extension": ".py",
   "mimetype": "text/x-python",
   "name": "python",
   "nbconvert_exporter": "python",
   "pygments_lexer": "ipython3",
   "version": "3.8.8"
  }
 },
 "nbformat": 4,
 "nbformat_minor": 5
}
